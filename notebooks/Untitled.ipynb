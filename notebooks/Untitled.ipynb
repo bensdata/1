{
 "cells": [
  {
   "cell_type": "code",
   "execution_count": 1,
   "metadata": {},
   "outputs": [
    {
     "name": "stdout",
     "output_type": "stream",
     "text": [
      "Collecting package metadata (current_repodata.json): ...working... done\n",
      "Solving environment: ...working... done\n",
      "\n",
      "## Package Plan ##\n",
      "\n",
      "  environment location: C:\\Users\\ben\\Anaconda3\n",
      "\n",
      "  added / updated specs:\n",
      "    - jupyter\n",
      "\n",
      "\n",
      "The following packages will be downloaded:\n",
      "\n",
      "    package                    |            build\n",
      "    ---------------------------|-----------------\n",
      "    backports.functools_lru_cache-1.6.1|             py_0          11 KB\n",
      "    conda-4.8.3                |           py37_0         2.8 MB\n",
      "    conda-package-handling-1.6.1|   py37h62dcd97_0         612 KB\n",
      "    future-0.18.2              |           py37_0         656 KB\n",
      "    ------------------------------------------------------------\n",
      "                                           Total:         4.1 MB\n",
      "\n",
      "The following packages will be UPDATED:\n",
      "\n",
      "  backports.functoo~                               1.5-py_2 --> 1.6.1-py_0\n",
      "  conda                                       4.7.12-py37_0 --> 4.8.3-py37_0\n",
      "  conda-package-han~                   1.6.0-py37h62dcd97_0 --> 1.6.1-py37h62dcd97_0\n",
      "  future                                      0.17.1-py37_0 --> 0.18.2-py37_0\n",
      "\n",
      "\n",
      "\n",
      "Downloading and Extracting Packages\n",
      "\n",
      "future-0.18.2        | 656 KB    |            |   0% \n",
      "future-0.18.2        | 656 KB    | 2          |   2% \n",
      "future-0.18.2        | 656 KB    | ####1      |  41% \n",
      "future-0.18.2        | 656 KB    | ########## | 100% \n",
      "\n",
      "conda-package-handli | 612 KB    |            |   0% \n",
      "conda-package-handli | 612 KB    | #8         |  18% \n",
      "conda-package-handli | 612 KB    | ########8  |  89% \n",
      "conda-package-handli | 612 KB    | ########## | 100% \n",
      "\n",
      "conda-4.8.3          | 2.8 MB    |            |   0% \n",
      "conda-4.8.3          | 2.8 MB    | 4          |   5% \n",
      "conda-4.8.3          | 2.8 MB    | #8         |  19% \n",
      "conda-4.8.3          | 2.8 MB    | #####7     |  58% \n",
      "conda-4.8.3          | 2.8 MB    | #########2 |  92% \n",
      "conda-4.8.3          | 2.8 MB    | ########## | 100% \n",
      "\n",
      "backports.functools_ | 11 KB     |            |   0% \n",
      "backports.functools_ | 11 KB     | ########## | 100% \n",
      "Preparing transaction: ...working... done\n",
      "Verifying transaction: ...working... done\n",
      "Executing transaction: ...working... done\n",
      "\n",
      "Note: you may need to restart the kernel to use updated packages.\n"
     ]
    }
   ],
   "source": [
    "conda update jupyter"
   ]
  },
  {
   "cell_type": "code",
   "execution_count": null,
   "metadata": {},
   "outputs": [],
   "source": []
  }
 ],
 "metadata": {
  "kernelspec": {
   "display_name": "Python 3",
   "language": "python",
   "name": "python3"
  },
  "language_info": {
   "codemirror_mode": {
    "name": "ipython",
    "version": 3
   },
   "file_extension": ".py",
   "mimetype": "text/x-python",
   "name": "python",
   "nbconvert_exporter": "python",
   "pygments_lexer": "ipython3",
   "version": "3.7.4"
  }
 },
 "nbformat": 4,
 "nbformat_minor": 2
}
